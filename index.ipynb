{
 "cells": [
  {
   "cell_type": "markdown",
   "metadata": {},
   "source": [
    "# Solving Systems of Linear Equations with NumPy - Lab\n",
    "\n",
    "## Introduction \n",
    "\n",
    "Now you've gathered all the required skills needed to solve systems of linear equations. You saw why there was need to calculate inverses of matrices, followed by matrix multiplication to figure out the values of unknown variables. \n",
    "\n",
    "The exercises in this lab present some problems that can be converted into a system of linear equations. \n",
    "\n",
    "## Objectives\n",
    "You will be able to:\n",
    "\n",
    "* Build a system of equations from given problem by creating matrix and vectors in NumPy\n",
    "* Calculate the inverse and dot-product to get the values for unknown variables.\n",
    "* Solve linear equations using `numpy.linalg.solve()`\n",
    "\n",
    "## Exercise 1\n",
    "\n",
    "A coffee shop is having a sale on coffee and tea. \n",
    "\n",
    "On day 1, 29 bags of coffee and 41 bags of tea were sold, for a total of 490 dollars.\n",
    "\n",
    "On day 2, they sold 23 bags of coffee and 41 bags of tea, for which customers paid a total of 448 dollars.  \n",
    "\n",
    "How much does each bag cost?"
   ]
  },
  {
   "cell_type": "code",
   "execution_count": 16,
   "metadata": {},
   "outputs": [
    {
     "data": {
      "text/plain": [
       "array([[7.],\n",
       "       [7.]])"
      ]
     },
     "execution_count": 16,
     "metadata": {},
     "output_type": "execute_result"
    }
   ],
   "source": [
    "# Solution:\n",
    "import numpy as np\n",
    "bags = np.array([[29, 41], [23, 41]])\n",
    "revenue = np.array([[490], [448]])\n",
    "\n",
    "np.linalg.solve(bags, revenue)"
   ]
  },
  {
   "cell_type": "code",
   "execution_count": 13,
   "metadata": {},
   "outputs": [],
   "source": [
    "# Explain your answer in terms of prices\n",
    "# both a bag of tea and a bag of coffee cost $7"
   ]
  },
  {
   "cell_type": "markdown",
   "metadata": {},
   "source": [
    "## Exercise 2\n",
    "\n",
    "The cost of admission to a popular music concert was 162 dollars for 12 children and 3 adults. \n",
    "\n",
    "The admission was 122 dollars for 8 children and 3 adults in another music concert. \n",
    "\n",
    "How much was the admission for each child and adult?"
   ]
  },
  {
   "cell_type": "code",
   "execution_count": 17,
   "metadata": {},
   "outputs": [
    {
     "data": {
      "text/plain": [
       "array([[10.],\n",
       "       [14.]])"
      ]
     },
     "execution_count": 17,
     "metadata": {},
     "output_type": "execute_result"
    }
   ],
   "source": [
    "# Create a system of equations\n",
    "concerts = np.array([[12,3], [8,3]])\n",
    "admission = np.array([[162,122]]).T\n",
    "\n",
    "np.linalg.solve(concerts, admission)"
   ]
  },
  {
   "cell_type": "code",
   "execution_count": 7,
   "metadata": {},
   "outputs": [],
   "source": [
    "# Describe your result\n",
    "# Children seats are $10, adults $14"
   ]
  },
  {
   "cell_type": "markdown",
   "metadata": {},
   "source": [
    "## Exercise 3\n",
    "\n",
    "You want to make a soup containing tomatoes, carrots and onions.\n",
    "\n",
    "Suppose you don't know the exact mix to put in, but you know there are 7 individual pieces of vegetables, and there are twice as many tomatoes as onions, and that the 7 pieces of vegetables cost 5.25 USD in total. \n",
    "You also know that onions cost 0.5 USD each, tomatoes cost .75 USD and carrots cost 1.25 USD each.\n",
    "\n",
    "Create a system of equations to find out exactly how many of each of the vegetables is in your soup."
   ]
  },
  {
   "cell_type": "code",
   "execution_count": 20,
   "metadata": {},
   "outputs": [
    {
     "name": "stdout",
     "output_type": "stream",
     "text": [
      "Tomatoes:  [4.]\n",
      "Onions:  [2.]\n",
      "Carrots:  [1.]\n"
     ]
    }
   ],
   "source": [
    "# Create a system of equations\n",
    "ingred_val = np.array([[3,1], [(.75*2+.5), 1.25]])\n",
    "results = np.array([[7,5.25]]).T\n",
    "\n",
    "solved = np.linalg.solve(ingred_val, results)\n",
    "onions = solved[0]\n",
    "carrots = solved[1]\n",
    "tomatoes = 7 - onions - carrots\n",
    "\n",
    "print('Tomatoes: ', tomatoes)\n",
    "print('Onions: ', onions)\n",
    "print('Carrots: ', carrots)\n"
   ]
  },
  {
   "cell_type": "code",
   "execution_count": 2,
   "metadata": {},
   "outputs": [],
   "source": [
    "# Explain your answer\n"
   ]
  },
  {
   "cell_type": "markdown",
   "metadata": {},
   "source": [
    "## Exercise 4\n",
    "\n",
    "A landlord owns 3 properties: a 1-bedroom, a 2-bedroom , and a 3-bedroom house. \n",
    "\n",
    "The total rent he receives is 1240 USD. \n",
    "\n",
    "He needs to make some repairs, where those repairs cost 10% of the 1-bedroom house’s rent. The 2-bedroom repairs cost 20% of the 2-bedroom rental price, and 30% of the 3-bedroom house's rent for its repairs.  The total repair bill for all three houses was 276 USD. \n",
    "\n",
    "The 3-bedroom house's rent is twice the 1-bedroom house’s rent. \n",
    "\n",
    "How much is the individual rent for three houses?"
   ]
  },
  {
   "cell_type": "code",
   "execution_count": 3,
   "metadata": {},
   "outputs": [],
   "source": [
    "# Create a system of equations\n",
    "rent_repairs = np.array([[3,1], [(.3*2+.1), .2]])\n",
    "results = np.array([[1240,276]]).T\n",
    "\n",
    "solved = np.linalg.solve(rent_repairs, results)\n",
    "onions = solved[0]\n",
    "carrots = solved[1]\n",
    "tomatoes = 7 - onions - carrots\n",
    "\n",
    "print('Tomatoes: ', tomatoes)\n",
    "print('Onions: ', onions)\n",
    "print('Carrots: ', carrots)"
   ]
  },
  {
   "cell_type": "code",
   "execution_count": 11,
   "metadata": {},
   "outputs": [],
   "source": [
    "# Explain your answer\n"
   ]
  },
  {
   "cell_type": "markdown",
   "metadata": {},
   "source": [
    "## Summary\n",
    "In this lab, you learned how to use Numpy to solve linear equations by taking inverses and matrix multiplication and also using numpy's `.solve()`. You'll now take these skills forward and see how you can define a simple regression problem using linear algebra and solve it with Numpy. "
   ]
  }
 ],
 "metadata": {
  "kernelspec": {
   "display_name": "Python 3",
   "language": "python",
   "name": "python3"
  },
  "language_info": {
   "codemirror_mode": {
    "name": "ipython",
    "version": 3
   },
   "file_extension": ".py",
   "mimetype": "text/x-python",
   "name": "python",
   "nbconvert_exporter": "python",
   "pygments_lexer": "ipython3",
   "version": "3.6.6"
  }
 },
 "nbformat": 4,
 "nbformat_minor": 2
}
